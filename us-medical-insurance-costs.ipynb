{
 "cells": [
  {
   "cell_type": "markdown",
   "metadata": {},
   "source": [
    "# U.S. Medical Insurance Costs"
   ]
  },
  {
   "cell_type": "code",
   "execution_count": 51,
   "metadata": {},
   "outputs": [],
   "source": [
    "# import csv library\n",
    "import csv\n",
    "import pandas as pd"
   ]
  },
  {
   "cell_type": "code",
   "execution_count": 52,
   "metadata": {},
   "outputs": [],
   "source": [
    "ages = []\n",
    "sexes = []\n",
    "bmis = []\n",
    "num_children = []\n",
    "smoker_statuses = []\n",
    "regions = []\n",
    "insurance_charges = []"
   ]
  },
  {
   "cell_type": "code",
   "execution_count": 53,
   "metadata": {
    "scrolled": true
   },
   "outputs": [],
   "source": [
    "# helper function to load csv data\n",
    "insurance_data = pd.read_csv('insurance.csv')\n",
    "ages = insurance_data['age']\n",
    "sexes = insurance_data['sex']\n",
    "bmis = insurance_data['bmi']\n",
    "num_children = insurance_data['children']\n",
    "smoker_statuses = insurance_data['smoker']\n",
    "regions = insurance_data['region']\n",
    "insurance_charges = insurance_data['charges']\n"
   ]
  },
  {
   "cell_type": "code",
   "execution_count": 54,
   "metadata": {},
   "outputs": [
    {
     "name": "stdout",
     "output_type": "stream",
     "text": [
      "      age     sex     bmi  children smoker     region      charges\n",
      "0      19  female  27.900         0    yes  southwest  16884.92400\n",
      "1      18    male  33.770         1     no  southeast   1725.55230\n",
      "2      28    male  33.000         3     no  southeast   4449.46200\n",
      "3      33    male  22.705         0     no  northwest  21984.47061\n",
      "4      32    male  28.880         0     no  northwest   3866.85520\n",
      "...   ...     ...     ...       ...    ...        ...          ...\n",
      "1333   50    male  30.970         3     no  northwest  10600.54830\n",
      "1334   18  female  31.920         0     no  northeast   2205.98080\n",
      "1335   18  female  36.850         0     no  southeast   1629.83350\n",
      "1336   21  female  25.800         0     no  southwest   2007.94500\n",
      "1337   61  female  29.070         0    yes  northwest  29141.36030\n",
      "\n",
      "[1338 rows x 7 columns]\n",
      "0       19\n",
      "1       18\n",
      "2       28\n",
      "3       33\n",
      "4       32\n",
      "        ..\n",
      "1333    50\n",
      "1334    18\n",
      "1335    18\n",
      "1336    21\n",
      "1337    61\n",
      "Name: age, Length: 1338, dtype: int64\n",
      "0       female\n",
      "1         male\n",
      "2         male\n",
      "3         male\n",
      "4         male\n",
      "         ...  \n",
      "1333      male\n",
      "1334    female\n",
      "1335    female\n",
      "1336    female\n",
      "1337    female\n",
      "Name: sex, Length: 1338, dtype: object\n",
      "0       27.900\n",
      "1       33.770\n",
      "2       33.000\n",
      "3       22.705\n",
      "4       28.880\n",
      "         ...  \n",
      "1333    30.970\n",
      "1334    31.920\n",
      "1335    36.850\n",
      "1336    25.800\n",
      "1337    29.070\n",
      "Name: bmi, Length: 1338, dtype: float64\n",
      "0       0\n",
      "1       1\n",
      "2       3\n",
      "3       0\n",
      "4       0\n",
      "       ..\n",
      "1333    3\n",
      "1334    0\n",
      "1335    0\n",
      "1336    0\n",
      "1337    0\n",
      "Name: children, Length: 1338, dtype: int64\n",
      "0       yes\n",
      "1        no\n",
      "2        no\n",
      "3        no\n",
      "4        no\n",
      "       ... \n",
      "1333     no\n",
      "1334     no\n",
      "1335     no\n",
      "1336     no\n",
      "1337    yes\n",
      "Name: smoker, Length: 1338, dtype: object\n",
      "0       southwest\n",
      "1       southeast\n",
      "2       southeast\n",
      "3       northwest\n",
      "4       northwest\n",
      "          ...    \n",
      "1333    northwest\n",
      "1334    northeast\n",
      "1335    southeast\n",
      "1336    southwest\n",
      "1337    northwest\n",
      "Name: region, Length: 1338, dtype: object\n",
      "0       16884.92400\n",
      "1        1725.55230\n",
      "2        4449.46200\n",
      "3       21984.47061\n",
      "4        3866.85520\n",
      "           ...     \n",
      "1333    10600.54830\n",
      "1334     2205.98080\n",
      "1335     1629.83350\n",
      "1336     2007.94500\n",
      "1337    29141.36030\n",
      "Name: charges, Length: 1338, dtype: float64\n"
     ]
    }
   ],
   "source": [
    "## look at the data in insurance_csv_dict\n",
    "\n",
    "print(insurance_data)\n",
    "print(ages)\n",
    "print(sexes)\n",
    "print(bmis)\n",
    "print(num_children)\n",
    "print(smoker_statuses)\n",
    "print(regions)\n",
    "print(insurance_charges)"
   ]
  },
  {
   "cell_type": "code",
   "execution_count": 58,
   "metadata": {
    "scrolled": true
   },
   "outputs": [
    {
     "name": "stdout",
     "output_type": "stream",
     "text": [
      "<class 'pandas.core.series.Series'>\n"
     ]
    },
    {
     "data": {
      "text/plain": [
       "['southwest', 'southeast', 'northwest', 'northeast']"
      ]
     },
     "execution_count": 58,
     "metadata": {},
     "output_type": "execute_result"
    }
   ],
   "source": [
    "def age_insurance(ages, insurance_charges):\n",
    "    young = []\n",
    "    middle = []\n",
    "    old = []\n",
    "    for agedex in range(len(ages)):\n",
    "        if int(ages[agedex])< 35:\n",
    "            young.append(int(insurance_charges[agedex])\n",
    "            \n",
    "        elif int(ages[agedex])<60:\n",
    "            middle.append(int(insurance_charges[agedex]))\n",
    "            \n",
    "        else:\n",
    "            old.append(insurance_charges[agedex])\n",
    "    return young, middle, old\n",
    "                        \n",
    "#method that calculates the number of males and females in insurance.csv\n",
    "def create_sexes(sexes, insurance_charges):\n",
    "    \n",
    "    male_list = []\n",
    "    female_list = []\n",
    "    for sexdex in range(len(sexes)):\n",
    "        if sex == \"male\":\n",
    "            male_list.append(sexes[sexdes])\n",
    "        if sex == \"female\":\n",
    "            female_list.append(sexes[sexdex])\n",
    "    return male_list, female_list\n",
    "\n",
    "def weight_insurance(bmis, insurance_charges):\n",
    "    normal = []\n",
    "    overweight = []\n",
    "    obese = []\n",
    "    for bmidex in range(len(bmis)):\n",
    "        if float(bmi)< 25:\n",
    "            normal.append(bmis[bmidex])\n",
    "        elif float(bmi)<30:\n",
    "            overweight.append(bmis[bmidex])\n",
    "        else:\n",
    "            obese.append(bmis[bmidex])\n",
    "    return normal, overweight, obese\n",
    "            \n",
    "def smoker_insurance(smoker_statuses, insurance_charges):\n",
    "    smokers = []\n",
    "    non_smokers = []\n",
    "    for smokerdex in smoker_statuses:\n",
    "        if person == \"yes\":\n",
    "            smokers.append(smokers[smokerdex])\n",
    "        else:\n",
    "            non_smokers.append(smokers[smokerdex])\n",
    "    return smokers, non_smokers"
   ]
  },
  {
   "cell_type": "code",
   "execution_count": null,
   "metadata": {},
   "outputs": [],
   "source": [
    "\n",
    "\n",
    "def age_average(ages, insurance_charges):\n",
    "    young = 0\n",
    "    middle = 0\n",
    "    old = 0\n",
    "    for agedex in range(len(ages)):\n",
    "        if int(ages[agedex])< 35:\n",
    "            young += int(insurance_charges[agedex])\n",
    "            len_young += 1\n",
    "        elif int(ages[agedex])<60:\n",
    "            middle += int(insurance_charges[agedex])\n",
    "            len_middle += 1\n",
    "        else:\n",
    "            old += int(insurance_charges[agedex])\n",
    "            len_old += 1\n",
    "            \n",
    "    return young/len_young, middle/len_middle, old/len_old\n",
    "\n",
    "#method to find each unique region patients are from\n",
    "def unique_regions(regions):\n",
    "    unique_regions = []\n",
    "    for region in regions:\n",
    "        if not region in unique_regions:\n",
    "            unique_regions.append(region)\n",
    "    return unique_regions\n",
    "  \n",
    "    \n",
    "#method to find average yearly medical charges for patients in insurance.csv\n",
    "def average_charges(insurance_charges):\n",
    "    total_charge = 0\n",
    "    for charge in insurance_charges:\n",
    "        total_charge += charge\n",
    "    return total_charges/len(insurance_charges)\n",
    "        \n",
    "\n",
    "            \n",
    "analyze_ages(ages)    \n",
    "analyze_sexes(sexes)\n",
    "unique_regions(regions)\n"
   ]
  },
  {
   "cell_type": "code",
   "execution_count": null,
   "metadata": {},
   "outputs": [],
   "source": [
    "\n",
    "\n",
    "\n"
   ]
  }
 ],
 "metadata": {
  "kernelspec": {
   "display_name": "Python 3 (ipykernel)",
   "language": "python",
   "name": "python3"
  },
  "language_info": {
   "codemirror_mode": {
    "name": "ipython",
    "version": 3
   },
   "file_extension": ".py",
   "mimetype": "text/x-python",
   "name": "python",
   "nbconvert_exporter": "python",
   "pygments_lexer": "ipython3",
   "version": "3.9.7"
  }
 },
 "nbformat": 4,
 "nbformat_minor": 4
}
